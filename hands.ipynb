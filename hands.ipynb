{
 "cells": [
  {
   "cell_type": "code",
   "execution_count": 283,
   "id": "f7063ddd",
   "metadata": {},
   "outputs": [],
   "source": [
    "import urllib.request\n",
    "import re"
   ]
  },
  {
   "cell_type": "code",
   "execution_count": 291,
   "id": "5a28221b",
   "metadata": {},
   "outputs": [],
   "source": [
    "url = \"https://repetitors.info/\"\n",
    "headers = {\"User-Agent\" : \"Mozilla/5.0\"}\n",
    "req = urllib.request.Request(url, headers=headers)\n",
    "\n",
    "fp = urllib.request.urlopen(req)\n",
    "text = fp.read()\n",
    "text = text.decode(\"utf8\")\n",
    "fp.close()"
   ]
  },
  {
   "cell_type": "code",
   "execution_count": 292,
   "id": "ad535c30",
   "metadata": {},
   "outputs": [],
   "source": [
    "search_pattern_eleven_digits = \"[+]?[\\s]?[0-9][\\s]?-?[\\s]?[(]?[\\s]?[0-9]{3}[\\s]?[)]?[\\s]?-?[\\s]?[0-9]{3}[\\s]?-?[\\s]?[0-9]{2}[\\s]?-?[\\s]?[0-9]{2}\"\n",
    "search_pattern_ten_digits = \"[(]?[\\s]?[0-9]{3}[\\s]?[)]?[\\s]?-?[\\s]?[0-9]{3}[\\s]?-?[\\s]?[0-9]{2}[\\s]?-?[\\s]?[0-9]{2}\"\n",
    "search_pattern_seven_digits = \"[0-9]{3}[\\s]?-?[\\s]?[0-9]{2}[\\s]?-?[\\s]?[0-9]{2}\""
   ]
  },
  {
   "cell_type": "code",
   "execution_count": 293,
   "id": "93a01f02",
   "metadata": {},
   "outputs": [],
   "source": [
    "clean_numbers = set()"
   ]
  },
  {
   "cell_type": "code",
   "execution_count": 294,
   "id": "d6d66136",
   "metadata": {},
   "outputs": [],
   "source": [
    "numbers = re.findall(search_pattern_eleven_digits, text)"
   ]
  },
  {
   "cell_type": "code",
   "execution_count": 295,
   "id": "64330759",
   "metadata": {},
   "outputs": [
    {
     "name": "stdout",
     "output_type": "stream",
     "text": [
      "['16945268851', '16935784518', '16935784511', '16935784511', '16935784511', '89772787713', '8 (495) 540-56-76', '8 (495) 540-56-76', '8 (495) 540-56-76', '8 (495) 540-56-76', '16935784519', '16935784514', '16935784515', '16935784518', '16935784511', '16935784513', '16935784512', '16935784512', '16935784511', '16935784511', '16935784523', '16945268852', '16935784502']\n"
     ]
    }
   ],
   "source": [
    "print(numbers)"
   ]
  },
  {
   "cell_type": "code",
   "execution_count": 296,
   "id": "9a33ead8",
   "metadata": {},
   "outputs": [],
   "source": [
    "for number in numbers:\n",
    "    clean_number = ''.join([i for i in number if i.isdigit()])\n",
    "    if (clean_number[0] == '7'):\n",
    "        clean_number = '8' + clean_number[1:]\n",
    "    if (clean_number[0] == '8'):\n",
    "        clean_numbers.add(clean_number)"
   ]
  },
  {
   "cell_type": "code",
   "execution_count": 297,
   "id": "86485cd4",
   "metadata": {},
   "outputs": [
    {
     "name": "stdout",
     "output_type": "stream",
     "text": [
      "{'89772787713', '84955405676'}\n"
     ]
    }
   ],
   "source": [
    "print(clean_numbers)"
   ]
  },
  {
   "cell_type": "code",
   "execution_count": 298,
   "id": "801de324",
   "metadata": {},
   "outputs": [],
   "source": [
    "numbers = re.findall(search_pattern_ten_digits, text)"
   ]
  },
  {
   "cell_type": "code",
   "execution_count": 299,
   "id": "e1990dd9",
   "metadata": {},
   "outputs": [],
   "source": [
    "for number in numbers:\n",
    "    clean_number = ''.join([i for i in number if i.isdigit()])\n",
    "    clean_numbers.add('8'+clean_number)"
   ]
  },
  {
   "cell_type": "code",
   "execution_count": 300,
   "id": "334e54af",
   "metadata": {},
   "outputs": [],
   "source": [
    "numbers = re.findall(search_pattern_seven_digits, text)"
   ]
  },
  {
   "cell_type": "code",
   "execution_count": 301,
   "id": "c3cdddd4",
   "metadata": {},
   "outputs": [],
   "source": [
    "for number in numbers:\n",
    "    clean_number = ''.join([i for i in number if i.isdigit()])\n",
    "    clean_numbers.add('8495'+clean_number)"
   ]
  },
  {
   "cell_type": "code",
   "execution_count": 302,
   "id": "a0280e2b",
   "metadata": {},
   "outputs": [
    {
     "name": "stdout",
     "output_type": "stream",
     "text": [
      "{'84954512947', '84959997618', '84954523374', '84954515810', '81693578450', '84959997617', '84954511524', '81694526885', '84954511905', '84955625880', '84959997518', '84954518858', '84951694526', '81693578452', '84951693578', '84950122023', '84954511065', '84955405676', '84954519578', '84954518677', '88977278771', '84954513969', '89772787713', '81693578451', '84954511021', '84958052266', '84954512503', '84958852175', '84959999810', '84958851067', '84959997616', '84954511898', '84954511769', '84950002416', '84951999817', '84954514286', '84958977278', '84952999817', '88052266030', '84950002417'}\n"
     ]
    }
   ],
   "source": [
    "print(clean_numbers)"
   ]
  },
  {
   "cell_type": "markdown",
   "id": "62695d99",
   "metadata": {},
   "source": [
    "### Комментарий: \n",
    "Упор сделан на количество расспозноваемых номеров из предположения, что скорее всего анализ базы будет происходить с каким-то временным промежутком и отловить все номера важнее, чем не поймать лишние. Поэтому в обязательном порядке ведется проверка на 7-значные номера."
   ]
  },
  {
   "cell_type": "markdown",
   "id": "d2e27672",
   "metadata": {},
   "source": [
    "## Проверка паттернов:"
   ]
  },
  {
   "cell_type": "markdown",
   "id": "fdcf41ba",
   "metadata": {},
   "source": [
    "Для 11-значных номеров:"
   ]
  },
  {
   "cell_type": "code",
   "execution_count": 303,
   "id": "bb164669",
   "metadata": {},
   "outputs": [
    {
     "name": "stdout",
     "output_type": "stream",
     "text": [
      "['8 495 137-07-20', ' 84951370720', '+74951370702', '+7 495 137 07 02', ' 8-495-137-07-02', ' 8 (495) 137 07 02', '+7(495)137 07 02', ' 8(495)1370702', '+7 (495) 137-0702']\n"
     ]
    }
   ],
   "source": [
    "text = \"8 495 137-07-20 84951370720 +74951370702 +7 495 137 07 02 8-495-137-07-02 8 (495) 137 07 02 +7(495)137 07 02 8(495)1370702 +7 (495) 137-0702\"\n",
    "numbers = re.findall(search_pattern_eleven_digits, text)\n",
    "print(numbers)"
   ]
  },
  {
   "cell_type": "markdown",
   "id": "52151c5c",
   "metadata": {},
   "source": [
    "Для 10-значных номеров(без 8 или +7):"
   ]
  },
  {
   "cell_type": "code",
   "execution_count": 304,
   "id": "071701a3",
   "metadata": {},
   "outputs": [
    {
     "name": "stdout",
     "output_type": "stream",
     "text": [
      "['495 137-07-20', ' 4951370720', ' 495 137 07 02', ' 495-137-07-02', '(495) 137 07 02', '(495)1370702', '(495) 137-07-02', '(495) 137 07 02']\n"
     ]
    }
   ],
   "source": [
    "text = \"495 137-07-20 4951370720 495 137 07 02 495-137-07-02 (495) 137 07 02 (495)1370702  (495) 137-07-02 (495) 137 07 02\"\n",
    "numbers = re.findall(search_pattern_ten_digits, text)\n",
    "print(numbers)"
   ]
  },
  {
   "cell_type": "markdown",
   "id": "3e377985",
   "metadata": {},
   "source": [
    "Для 7-значных номеров(без 8 и +7 и кода):"
   ]
  },
  {
   "cell_type": "code",
   "execution_count": 305,
   "id": "7f62bab6",
   "metadata": {},
   "outputs": [
    {
     "name": "stdout",
     "output_type": "stream",
     "text": [
      "['137-07-20', '137 07 02', '1370702']\n"
     ]
    }
   ],
   "source": [
    "text = \"137-07-20 137 07 02 1370702\"\n",
    "numbers = re.findall(search_pattern_seven_digits, text)\n",
    "print(numbers)"
   ]
  },
  {
   "cell_type": "code",
   "execution_count": null,
   "id": "21d7c173",
   "metadata": {},
   "outputs": [],
   "source": []
  }
 ],
 "metadata": {
  "kernelspec": {
   "display_name": "Python 3 (ipykernel)",
   "language": "python",
   "name": "python3"
  },
  "language_info": {
   "codemirror_mode": {
    "name": "ipython",
    "version": 3
   },
   "file_extension": ".py",
   "mimetype": "text/x-python",
   "name": "python",
   "nbconvert_exporter": "python",
   "pygments_lexer": "ipython3",
   "version": "3.9.13"
  }
 },
 "nbformat": 4,
 "nbformat_minor": 5
}
